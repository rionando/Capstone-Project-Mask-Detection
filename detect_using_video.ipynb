{
 "cells": [
  {
   "cell_type": "code",
   "execution_count": 1,
   "metadata": {},
   "outputs": [],
   "source": [
    "from tensorflow.keras.applications.mobilenet_v2 import preprocess_input\n",
    "from tensorflow.keras.preprocessing.image import img_to_array\n",
    "from tensorflow.keras.models import load_model\n",
    "from imutils.video import VideoStream\n",
    "import numpy as np\n",
    "import imutils\n",
    "import time\n",
    "import cv2\n",
    "import os\n",
    "import time"
   ]
  },
  {
   "cell_type": "code",
   "execution_count": 2,
   "metadata": {},
   "outputs": [],
   "source": [
    "prototxtPath=os.path.sep.join([r'E:\\STUDI INDEPENDEN\\Trainning\\Capstone\\Capstone-Mask-Detection\\detect','deploy.prototxt'])\n",
    "weightsPath=os.path.sep.join([r'E:\\STUDI INDEPENDEN\\Trainning\\Capstone\\Capstone-Mask-Detection\\detect','res10_300x300_ssd_iter_140000.caffemodel'])\n",
    "\n",
    "faceNet = cv2.dnn.readNet(prototxtPath, weightsPath)\n",
    "maskNet = load_model(\n",
    "    r'E:\\STUDI INDEPENDEN\\Trainning\\Capstone\\Capstone-Mask-Detection\\mask_detector.model')"
   ]
  },
  {
   "cell_type": "code",
   "execution_count": 3,
   "metadata": {},
   "outputs": [],
   "source": [
    "lenbefore=0\n",
    "lenaftar=0"
   ]
  },
  {
   "cell_type": "code",
   "execution_count": 4,
   "metadata": {},
   "outputs": [],
   "source": [
    "def detect_and_predict_mask(frame, faceNet, maskNet):\n",
    "    (h, w) = frame.shape[:2]\n",
    "    blob = cv2.dnn.blobFromImage(frame, 1.0, (300, 300), (104.0, 177.0, 123.0))\n",
    "\n",
    "    faceNet.setInput(blob)\n",
    "    detections = faceNet.forward()\n",
    "\n",
    "    faces = []\n",
    "    locs = []\n",
    "    preds = []\n",
    "\n",
    "    for i in range(0, detections.shape[2]):\n",
    "        confidence = detections[0, 0, i, 2]\n",
    "\n",
    "        if confidence > 0.5:\n",
    "            box = detections[0, 0, i, 3:7]*np.array([w, h, w, h])\n",
    "            (startX, startY, endX, endY) = box.astype('int')\n",
    "\n",
    "            (startX, startY) = (max(0, startX), max(0, startY))\n",
    "            (endX, endY) = (min(w-1, endX), min(h-1, endY))\n",
    "\n",
    "            face = frame[startY:endY, startX:endX]\n",
    "            face = cv2.cvtColor(face, cv2.COLOR_BGR2RGB)\n",
    "            face = cv2.resize(face, (224, 224))\n",
    "            face = img_to_array(face)\n",
    "            face = preprocess_input(face)\n",
    "\n",
    "            faces.append(face)\n",
    "            locs.append((startX, startY, endX, endY))\n",
    "\n",
    "        if len(faces) > 0:\n",
    "            faces = np.array(faces, dtype='float32')\n",
    "            preds = maskNet.predict(faces, batch_size=12)\n",
    "\n",
    "        return (locs, preds)"
   ]
  },
  {
   "cell_type": "code",
   "execution_count": 5,
   "metadata": {},
   "outputs": [
    {
     "name": "stdout",
     "output_type": "stream",
     "text": [
      "Starting the Camera.....\n"
     ]
    }
   ],
   "source": [
    "print(\"Starting the Camera.....\")\n",
    "cap = VideoStream(src=0).start()\n",
    "pasang=0\n",
    "nopasang=0\n",
    "\n",
    "while True:\n",
    "\tframe = cap.read()\n",
    "\tframe = imutils.resize(frame, width=400)\n",
    "\n",
    "\t(locs, preds) = detect_and_predict_mask(frame, faceNet, maskNet)\n",
    "\n",
    "\tfor (box, pred) in zip(locs, preds):\n",
    "\t\t(startX, startY, endX, endY) = box\n",
    "\t\t(mask, withoutMask) = pred\n",
    "\n",
    "\t\tlabel = \"Mask\" if mask > withoutMask else \"No Mask\"\n",
    "\t\tcolor = (0, 255, 0) if label == \"Mask\" else (0, 0, 255)\n",
    "\n",
    "\t\tlabel = \"{}: {:.2f}%\".format(label, max(mask, withoutMask) * 100)\n",
    "\t\tnumbermask=max(mask, withoutMask)*100\n",
    "\t\tif mask > withoutMask:\n",
    "\t\t\tif pasang==0:\n",
    "\t\t\t\tif mask and numbermask<90:\n",
    "\t\t\t\t\tos.system(\"mask_on.mp3\")\n",
    "\t\t\t\t\ttime.sleep(3)\n",
    "\t\t\t\t\n",
    "\t\t\t\telse:\n",
    "\t\t\t\t\tos.system(\"mask_on.mp3\")\n",
    "\t\t\t\t\ttime.sleep(3)\n",
    "\t\t\t\tpasang=1\n",
    "\t\t\t\tnopasang=0\n",
    "\t\telse:\n",
    "\t\t\tif nopasang==0:\n",
    "\t\t\t\tif withoutMask and numbermask>90:\n",
    "\t\t\t\t\tos.system(\"mask_off.mp3\")\n",
    "\t\t\t\t\ttime.sleep(3)\n",
    "\t\t\t\telse:\n",
    "\t\t\t\t\tos.system(\"mask_on.mp3\")\n",
    "\t\t\t\t\ttime.sleep(3)\n",
    "\t\t\t\tpasang=0\n",
    "\t\t\t\tnopasang=1\n",
    "\n",
    "\t\tcv2.putText(frame, label, (startX, startY - 10),\n",
    "\t\t\tcv2.FONT_HERSHEY_SIMPLEX, 0.45, color, 2)\n",
    "\t\tcv2.rectangle(frame, (startX, startY), (endX, endY), color, 2)\n",
    "\n",
    "\tcv2.imshow(\"Frame\", frame)\n",
    "\tkey = cv2.waitKey(1) & 0xFF\n",
    "\n",
    "\tif key == ord(\"q\"):\n",
    "\t\tbreak\n",
    "        \n",
    "cv2.destroyAllWindows()\n",
    "cap.stop()"
   ]
  }
 ],
 "metadata": {
  "interpreter": {
   "hash": "e175dba8654677f038d9af6af8a981530d13d02169815fea4643dcbd04d7b30a"
  },
  "kernelspec": {
   "display_name": "Python 3.8.5 64-bit ('base': conda)",
   "language": "python",
   "name": "python3"
  },
  "language_info": {
   "codemirror_mode": {
    "name": "ipython",
    "version": 3
   },
   "file_extension": ".py",
   "mimetype": "text/x-python",
   "name": "python",
   "nbconvert_exporter": "python",
   "pygments_lexer": "ipython3",
   "version": "3.8.5"
  },
  "orig_nbformat": 4
 },
 "nbformat": 4,
 "nbformat_minor": 2
}
